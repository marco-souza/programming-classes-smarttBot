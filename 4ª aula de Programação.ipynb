{
 "cells": [
  {
   "cell_type": "code",
   "execution_count": 2,
   "metadata": {},
   "outputs": [
    {
     "name": "stdout",
     "output_type": "stream",
     "text": [
      "Hello Pires\n"
     ]
    }
   ],
   "source": [
    "print(\"Hello Pires\")"
   ]
  },
  {
   "cell_type": "code",
   "execution_count": 5,
   "metadata": {},
   "outputs": [
    {
     "name": "stdout",
     "output_type": "stream",
     "text": [
      "oi\n"
     ]
    }
   ],
   "source": [
    "print(\"oi\")"
   ]
  },
  {
   "cell_type": "code",
   "execution_count": 6,
   "metadata": {},
   "outputs": [
    {
     "ename": "NameError",
     "evalue": "name 'inpunt' is not defined",
     "output_type": "error",
     "traceback": [
      "\u001b[0;31m---------------------------------------------------------------------------\u001b[0m",
      "\u001b[0;31mNameError\u001b[0m                                 Traceback (most recent call last)",
      "\u001b[0;32m<ipython-input-6-fb5b98396778>\u001b[0m in \u001b[0;36m<module>\u001b[0;34m()\u001b[0m\n\u001b[0;32m----> 1\u001b[0;31m \u001b[0mx\u001b[0m \u001b[0;34m=\u001b[0m \u001b[0minpunt\u001b[0m\u001b[0;34m\u001b[0m\u001b[0m\n\u001b[0m",
      "\u001b[0;31mNameError\u001b[0m: name 'inpunt' is not defined"
     ]
    }
   ],
   "source": [
    "x = inpunt "
   ]
  },
  {
   "cell_type": "code",
   "execution_count": 8,
   "metadata": {},
   "outputs": [],
   "source": [
    "x= input"
   ]
  },
  {
   "cell_type": "code",
   "execution_count": 9,
   "metadata": {},
   "outputs": [],
   "source": [
    "x = input"
   ]
  },
  {
   "cell_type": "code",
   "execution_count": 11,
   "metadata": {},
   "outputs": [],
   "source": [
    "x = input "
   ]
  },
  {
   "cell_type": "code",
   "execution_count": 12,
   "metadata": {},
   "outputs": [
    {
     "ename": "SyntaxError",
     "evalue": "invalid syntax (<ipython-input-12-f5da5f7b1e24>, line 1)",
     "output_type": "error",
     "traceback": [
      "\u001b[0;36m  File \u001b[0;32m\"<ipython-input-12-f5da5f7b1e24>\"\u001b[0;36m, line \u001b[0;32m1\u001b[0m\n\u001b[0;31m    if b = 2 then\u001b[0m\n\u001b[0m         ^\u001b[0m\n\u001b[0;31mSyntaxError\u001b[0m\u001b[0;31m:\u001b[0m invalid syntax\n"
     ]
    }
   ],
   "source": [
    "if b = 2 then"
   ]
  },
  {
   "cell_type": "code",
   "execution_count": 13,
   "metadata": {},
   "outputs": [
    {
     "name": "stdout",
     "output_type": "stream",
     "text": [
      "Hello\n"
     ]
    }
   ],
   "source": [
    "print(\"Hello\")"
   ]
  },
  {
   "cell_type": "code",
   "execution_count": 14,
   "metadata": {},
   "outputs": [
    {
     "ename": "SyntaxError",
     "evalue": "invalid syntax (<ipython-input-14-d329bf06d1f7>, line 1)",
     "output_type": "error",
     "traceback": [
      "\u001b[0;36m  File \u001b[0;32m\"<ipython-input-14-d329bf06d1f7>\"\u001b[0;36m, line \u001b[0;32m1\u001b[0m\n\u001b[0;31m    x = input (VALOR DE Y)\u001b[0m\n\u001b[0m                      ^\u001b[0m\n\u001b[0;31mSyntaxError\u001b[0m\u001b[0;31m:\u001b[0m invalid syntax\n"
     ]
    }
   ],
   "source": [
    "x = input (VALOR DE Y)"
   ]
  },
  {
   "cell_type": "code",
   "execution_count": 15,
   "metadata": {},
   "outputs": [
    {
     "ename": "SyntaxError",
     "evalue": "invalid syntax (<ipython-input-15-b68f1b750d06>, line 1)",
     "output_type": "error",
     "traceback": [
      "\u001b[0;36m  File \u001b[0;32m\"<ipython-input-15-b68f1b750d06>\"\u001b[0;36m, line \u001b[0;32m1\u001b[0m\n\u001b[0;31m    X = input(valor de x)\u001b[0m\n\u001b[0m                     ^\u001b[0m\n\u001b[0;31mSyntaxError\u001b[0m\u001b[0;31m:\u001b[0m invalid syntax\n"
     ]
    }
   ],
   "source": [
    "X = input(valor de x)"
   ]
  },
  {
   "cell_type": "code",
   "execution_count": 16,
   "metadata": {},
   "outputs": [],
   "source": [
    "x = input(\"Valor de X\")"
   ]
  },
  {
   "cell_type": "code",
   "execution_count": 17,
   "metadata": {},
   "outputs": [
    {
     "ename": "SyntaxError",
     "evalue": "invalid syntax (<ipython-input-17-6869eb939ad8>, line 2)",
     "output_type": "error",
     "traceback": [
      "\u001b[0;36m  File \u001b[0;32m\"<ipython-input-17-6869eb939ad8>\"\u001b[0;36m, line \u001b[0;32m2\u001b[0m\n\u001b[0;31m    if x>5\u001b[0m\n\u001b[0m           ^\u001b[0m\n\u001b[0;31mSyntaxError\u001b[0m\u001b[0;31m:\u001b[0m invalid syntax\n"
     ]
    }
   ],
   "source": [
    "x = input(\"Valor de x:\")\n",
    "if x>5 \n",
    " print(\"x é 5\")"
   ]
  },
  {
   "cell_type": "code",
   "execution_count": 18,
   "metadata": {},
   "outputs": [
    {
     "ename": "SyntaxError",
     "evalue": "invalid syntax (<ipython-input-18-1b4d53d5c0df>, line 2)",
     "output_type": "error",
     "traceback": [
      "\u001b[0;36m  File \u001b[0;32m\"<ipython-input-18-1b4d53d5c0df>\"\u001b[0;36m, line \u001b[0;32m2\u001b[0m\n\u001b[0;31m    if x  >5\u001b[0m\n\u001b[0m             ^\u001b[0m\n\u001b[0;31mSyntaxError\u001b[0m\u001b[0;31m:\u001b[0m invalid syntax\n"
     ]
    }
   ],
   "source": [
    "x = input(\"Valor de x:\")\n",
    "if x  >5 \n",
    " print(\"x é 5\")\n",
    "else\n",
    " print(\"X não é 5\")"
   ]
  },
  {
   "cell_type": "code",
   "execution_count": 21,
   "metadata": {},
   "outputs": [
    {
     "name": "stdout",
     "output_type": "stream",
     "text": [
      "X não é 5\n"
     ]
    }
   ],
   "source": [
    "x = int(input(\"Valor de x:\"))\n",
    "if x>5 :\n",
    " print(\"x é 5\")\n",
    "else:\n",
    " print(\"X não é 5\")"
   ]
  },
  {
   "cell_type": "code",
   "execution_count": 22,
   "metadata": {},
   "outputs": [
    {
     "ename": "SyntaxError",
     "evalue": "invalid syntax (<ipython-input-22-641f489ad1af>, line 1)",
     "output_type": "error",
     "traceback": [
      "\u001b[0;36m  File \u001b[0;32m\"<ipython-input-22-641f489ad1af>\"\u001b[0;36m, line \u001b[0;32m1\u001b[0m\n\u001b[0;31m    for while x<11:\u001b[0m\n\u001b[0m            ^\u001b[0m\n\u001b[0;31mSyntaxError\u001b[0m\u001b[0;31m:\u001b[0m invalid syntax\n"
     ]
    }
   ],
   "source": [
    "for while x<11:"
   ]
  },
  {
   "cell_type": "code",
   "execution_count": 26,
   "metadata": {},
   "outputs": [],
   "source": [
    "x = 0\n",
    "while x<11:\n",
    "    x = x+1"
   ]
  },
  {
   "cell_type": "raw",
   "metadata": {},
   "source": [
    "for x in range(10):\n",
    "    print(\"Pires\")\n",
    "    if(x%2==0):\n",
    "        print(x)\n"
   ]
  },
  {
   "cell_type": "code",
   "execution_count": 39,
   "metadata": {},
   "outputs": [
    {
     "ename": "NameError",
     "evalue": "name 'M1' is not defined",
     "output_type": "error",
     "traceback": [
      "\u001b[0;31m---------------------------------------------------------------------------\u001b[0m",
      "\u001b[0;31mNameError\u001b[0m                                 Traceback (most recent call last)",
      "\u001b[0;32m<ipython-input-39-91d84772edd9>\u001b[0m in \u001b[0;36m<module>\u001b[0;34m()\u001b[0m\n\u001b[0;32m----> 1\u001b[0;31m \u001b[0mx1\u001b[0m \u001b[0;34m=\u001b[0m \u001b[0minput\u001b[0m\u001b[0;34m(\u001b[0m\u001b[0mM1\u001b[0m\u001b[0;34m)\u001b[0m\u001b[0;34m\u001b[0m\u001b[0m\n\u001b[0m",
      "\u001b[0;31mNameError\u001b[0m: name 'M1' is not defined"
     ]
    }
   ],
   "source": [
    "x1 = input(M1)"
   ]
  },
  {
   "cell_type": "code",
   "execution_count": 47,
   "metadata": {},
   "outputs": [
    {
     "name": "stdout",
     "output_type": "stream",
     "text": [
      "Robô gerou entrada em x5\n"
     ]
    }
   ],
   "source": [
    "x1 = int(input(\"M1\"))\n",
    "x2 = int(input(\"M2\"))\n",
    "x3 = int(input(\"M3\"))\n",
    "x4 = int(input(\"M4\"))\n",
    "x5 = int(input(\"M5\"))\n",
    "x6 = int(input(\"M6\"))\n",
    "x7 = int(input(\"M7\"))\n",
    "x8 = int(input(\"M8\"))\n",
    "x9 = int(input(\"M9\"))\n",
    "x10 = int(input(\"M10\"))\n",
    "x11 = int(input(\"M11\"))\n",
    "x12 = int(input(\"M12\"))\n",
    "#média de 3\n",
    "P1 = (x1+x2+x3)/3\n",
    "P2 = (x2+x3+x4)/3\n",
    "P3 = (x3+x4+x5)/3\n",
    "P4 = (x4+x5+x6)/3\n",
    "P5 = (x5+x6+x7)/3\n",
    "P6 = (x6+x7+x8)/3\n",
    "P7 = (x7+x8+x9)/3\n",
    "P8 = (x8+x9+x10)/3\n",
    "P9 = (x9+x10+x11)/3\n",
    "P10 = (x10+x11+x12)/3\n",
    "#média de 4\n",
    "T1 = (x1+x2+x3+x4)/4\n",
    "T2 = (x2+x3+x4+x5)/4\n",
    "T3 = (x3+x4+x5+x6)/4\n",
    "T4 = (x4+x5+x6+x7)/4\n",
    "T5 = (x5+x6+x7+x8)/4\n",
    "T6 = (x6+x7+x8+x9)/4\n",
    "T7 = (x7+x8+x9+x10)/4\n",
    "T8 = (x8+x9+x10+x11)/4\n",
    "T9 = (x9+x10+x11+x12)/4\n",
    "a=0\n",
    "while (a!=12):\n",
    "    a = a+1\n",
    "    if P2==T1:\n",
    "        r2 = \"Robô gerou entrada em x4\"\n",
    "    else:\n",
    "        r2= 0\n",
    "    if P3==T2:\n",
    "        r3 = \"Robô gerou entrada em x5\"\n",
    "    else:\n",
    "        r3= 0\n",
    "    if P4==T3:\n",
    "        r4 = \"Robô gerou entrada em x6\"\n",
    "    else:\n",
    "        r4= 0\n",
    "    if P5==T4:\n",
    "        r5 = \"Robô gerou entrada em x7\" \n",
    "    else:\n",
    "        r5= 0\n",
    "    if P6==T5:\n",
    "        r6 = \"Robô gerou entrada em x8\"\n",
    "    else:\n",
    "        r6= 0\n",
    "    if P7==T6:\n",
    "        r7 = \"Robô gerou entrada em x9\"  \n",
    "    else:\n",
    "        r7= 0\n",
    "    if P8==T7:\n",
    "        r8 = \"Robô gerou entrada em x10\"\n",
    "    else:\n",
    "        r8= 0\n",
    "    if P9==T8:\n",
    "        r9 = \"Robô gerou entrada em x11\" \n",
    "    else:\n",
    "        r9= 0\n",
    "    if P10==T9:\n",
    "        r9 = \"Robô gerou entrada em x12\" \n",
    "    else:\n",
    "        r10= 0\n",
    "\n",
    "if r2!=0:\n",
    "    print(r2)\n",
    "if r3!=0:\n",
    "    print(r3)\n",
    "if r4!=0:\n",
    "    print(r4)\n",
    "if r5!=0:\n",
    "    print(r5)\n",
    "if r6!=0:\n",
    "    print(r6)\n",
    "if r7!=0:\n",
    "    print(r7)\n",
    "if r8!=0:\n",
    "    print(r8)\n",
    "if r9!=0:\n",
    "    print(r9)\n",
    "if r10!=0:\n",
    "    print(r10)"
   ]
  },
  {
   "cell_type": "code",
   "execution_count": null,
   "metadata": {},
   "outputs": [],
   "source": [
    "print(input(\"XX\"))"
   ]
  },
  {
   "cell_type": "code",
   "execution_count": null,
   "metadata": {},
   "outputs": [],
   "source": []
  }
 ],
 "metadata": {
  "kernelspec": {
   "display_name": "Python 3",
   "language": "python",
   "name": "python3"
  },
  "language_info": {
   "codemirror_mode": {
    "name": "ipython",
    "version": 3
   },
   "file_extension": ".py",
   "mimetype": "text/x-python",
   "name": "python",
   "nbconvert_exporter": "python",
   "pygments_lexer": "ipython3",
   "version": "3.6.2"
  }
 },
 "nbformat": 4,
 "nbformat_minor": 2
}
