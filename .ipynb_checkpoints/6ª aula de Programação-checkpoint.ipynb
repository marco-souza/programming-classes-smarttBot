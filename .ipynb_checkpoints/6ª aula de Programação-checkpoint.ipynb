{
 "cells": [
  {
   "cell_type": "markdown",
   "metadata": {},
   "source": [
    "# 6ª aula de Programação\n",
    "\n",
    "Finalmente chegamos ao final do curso. Para mostrar que você realmente aprendeu, esta última aula será apenas de exercícios, para reforçar o básico de python.\n",
    "\n",
    "O trabalho final é fazer um sistema de semáforo. Para isso você irá precisar de:\n",
    "\n",
    "- **Python3**\n",
    "- **pip**\n",
    "- **Raspberry Pi**\n",
    "- biblioteca criada para esse exercício disponível em: `https://github.com/marco-souza/semaforo_lib.git`\n",
    "\n",
    "## Semáforo para Carros\n",
    "\n",
    "Um semáforo para carros funciona da seguinte forma:\n",
    "\n",
    "- Acende a cor **verde**  durante **35s**\n",
    "- Acende a cor **amarela** por **10s**\n",
    "- Acende a cor **vermelha** por **25s**\n",
    "\n",
    "\n",
    "o comando para acender um led na biblioteca do projeto é:\n",
    "\n",
    "```\n",
    "import semaforo_lib\n",
    "\n",
    "semaforo_lib.toggle_light('amarela')\n",
    "```"
   ]
  },
  {
   "cell_type": "code",
   "execution_count": null,
   "metadata": {},
   "outputs": [],
   "source": [
    "# Implementação\n",
    "\n",
    "import semaforo_lib\n",
    "from time import sleep\n",
    "\n",
    "def semaforo_carro():\n",
    "    while (True):\n",
    "        \n",
    "        # Acende led verde por 35s\n",
    "        semaforo_lib.toggle_light('verde')\n",
    "        sleep(35)\n",
    "        semaforo_lib.toggle_light('verde')\n",
    "        \n",
    "        # Acende led amarelo por 10s\n",
    "        semaforo_lib.toggle_light('amarelo')\n",
    "        sleep(35)\n",
    "        semaforo_lib.toggle_light('amarelo')\n",
    "        \n",
    "        # Acende led vermelho por 25s\n",
    "        semaforo_lib.toggle_light('vermelho')\n",
    "        sleep(25)\n",
    "        semaforo_lib.toggle_light('vermelho')"
   ]
  },
  {
   "cell_type": "markdown",
   "metadata": {},
   "source": [
    "## Semáforo para Pedestres\n",
    "\n",
    "Um semáforo para pedestres funciona da seguinte forma mais simples:\n",
    "\n",
    "- Acende a cor **verde**  durante **30s**\n",
    "- Pisca a cor **vermelha** por **5s**, uma vez por segundo\n",
    "- Acende a cor **vermelha** por **15s**"
   ]
  },
  {
   "cell_type": "code",
   "execution_count": null,
   "metadata": {},
   "outputs": [],
   "source": [
    "# Implementação\n",
    "\n",
    "import semaforo_lib\n",
    "from time import sleep\n",
    "\n",
    "def semaforo_pedestre():\n",
    "    while (True):\n",
    "        \n",
    "        # Acende led verde por 35s\n",
    "        semaforo_lib.toggle_light('verde') # acende\n",
    "        sleep(35)\n",
    "        semaforo_lib.toggle_light('verde') # apaga\n",
    "        \n",
    "        # Pisca led vermelho por 5s\n",
    "        for i in range(5)\n",
    "            semaforo_lib.toggle_light('vermelho')\n",
    "            sleep(1)\n",
    "        \n",
    "        # Acende led vermelho por 15s\n",
    "        sleep(15)\n",
    "        semaforo_lib.toggle_light('vermelho') # apaga"
   ]
  },
  {
   "cell_type": "markdown",
   "metadata": {},
   "source": [
    "# A semaforo to rule them all\n",
    "\n",
    "Agora vamos juntar tudo em uma única função. Essa função deve receber o tipo de semaforo e, dependendo desse tipo, agir como um semáforo de Carro ou de pedestre\n"
   ]
  },
  {
   "cell_type": "code",
   "execution_count": null,
   "metadata": {},
   "outputs": [],
   "source": [
    "# Implementação\n",
    "def semaforo(tipo_semaforo):\n",
    "    if tipo_semaforo == \"carro\":\n",
    "        semaforo_carro()\n",
    "    elif tipo_semaforo == \"pedestre\":\n",
    "        semaforo_pedestre()\n",
    "    else:\n",
    "        return print(\"Tipo de semáforo inválido\")"
   ]
  }
 ],
 "metadata": {
  "kernelspec": {
   "display_name": "Python 3",
   "language": "python",
   "name": "python3"
  },
  "language_info": {
   "codemirror_mode": {
    "name": "ipython",
    "version": 3
   },
   "file_extension": ".py",
   "mimetype": "text/x-python",
   "name": "python",
   "nbconvert_exporter": "python",
   "pygments_lexer": "ipython3",
   "version": "3.6.2"
  }
 },
 "nbformat": 4,
 "nbformat_minor": 2
}
